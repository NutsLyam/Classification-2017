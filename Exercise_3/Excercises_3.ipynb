{
 "cells": [
  {
   "cell_type": "markdown",
   "metadata": {},
   "source": [
    "# Загрузка базы вопросов ЧГК\n",
    "\n",
    "Нужно загрузить все доступные вопросы и ответы к ним с базы http:///db.chgk.info . Результаты необходимо сохранить в каком-либо формате в форме вопрос-ответ (pickle, sqlite, текстовый файл и т.д.). "
   ]
  },
  {
   "cell_type": "code",
   "execution_count": 1,
   "metadata": {
    "collapsed": true
   },
   "outputs": [],
   "source": [
    "import lxml.html\n",
    "import lxml.etree\n",
    "import requests\n",
    "import sqlite3"
   ]
  },
  {
   "cell_type": "code",
   "execution_count": 80,
   "metadata": {
    "collapsed": false
   },
   "outputs": [
    {
     "data": {
      "text/plain": [
       "<sqlite3.Cursor at 0x511ff20>"
      ]
     },
     "execution_count": 80,
     "metadata": {},
     "output_type": "execute_result"
    }
   ],
   "source": [
    "conn = sqlite3.connect(\"chgk.db\") \n",
    "cursor = conn.cursor()\n",
    " \n",
    "# Создание таблицы\n",
    "cursor.execute(\"\"\"CREATE TABLE Base\n",
    "                  (id int, question text, answer text)\n",
    "               \"\"\")\n"
   ]
  },
  {
   "cell_type": "code",
   "execution_count": 3,
   "metadata": {
    "collapsed": false
   },
   "outputs": [
    {
     "name": "stderr",
     "output_type": "stream",
     "text": [
      "C:\\Users\\Наташа\\Anaconda3\\lib\\site-packages\\requests\\packages\\urllib3\\connectionpool.py:838: InsecureRequestWarning: Unverified HTTPS request is being made. Adding certificate verification is strongly advised. See: https://urllib3.readthedocs.io/en/latest/security.html\n",
      "  InsecureRequestWarning)\n"
     ]
    }
   ],
   "source": [
    "response= requests.get('http://db.chgk.info', verify=False)\n",
    "response.status_code\n",
    "\n",
    "\n",
    "tree = lxml.html.fromstring(response.text)"
   ]
  },
  {
   "cell_type": "code",
   "execution_count": 98,
   "metadata": {
    "collapsed": false
   },
   "outputs": [
    {
     "name": "stdout",
     "output_type": "stream",
     "text": [
      "97\n"
     ]
    }
   ],
   "source": [
    "#ссылки\n",
    "links = tree.xpath('//div[@id=\"body_bg\"]//table[@class=\"last_packages\"]//td/a[@rel=\"nofollow\"]/@href')\n",
    "print(len(links))"
   ]
  },
  {
   "cell_type": "code",
   "execution_count": 103,
   "metadata": {
    "collapsed": false
   },
   "outputs": [
    {
     "name": "stderr",
     "output_type": "stream",
     "text": [
      "C:\\Users\\Наташа\\Anaconda3\\lib\\site-packages\\requests\\packages\\urllib3\\connectionpool.py:838: InsecureRequestWarning: Unverified HTTPS request is being made. Adding certificate verification is strongly advised. See: https://urllib3.readthedocs.io/en/latest/security.html\n",
      "  InsecureRequestWarning)\n",
      "C:\\Users\\Наташа\\Anaconda3\\lib\\site-packages\\requests\\packages\\urllib3\\connectionpool.py:838: InsecureRequestWarning: Unverified HTTPS request is being made. Adding certificate verification is strongly advised. See: https://urllib3.readthedocs.io/en/latest/security.html\n",
      "  InsecureRequestWarning)\n",
      "C:\\Users\\Наташа\\Anaconda3\\lib\\site-packages\\requests\\packages\\urllib3\\connectionpool.py:838: InsecureRequestWarning: Unverified HTTPS request is being made. Adding certificate verification is strongly advised. See: https://urllib3.readthedocs.io/en/latest/security.html\n",
      "  InsecureRequestWarning)\n",
      "C:\\Users\\Наташа\\Anaconda3\\lib\\site-packages\\requests\\packages\\urllib3\\connectionpool.py:838: InsecureRequestWarning: Unverified HTTPS request is being made. Adding certificate verification is strongly advised. See: https://urllib3.readthedocs.io/en/latest/security.html\n",
      "  InsecureRequestWarning)\n",
      "C:\\Users\\Наташа\\Anaconda3\\lib\\site-packages\\requests\\packages\\urllib3\\connectionpool.py:838: InsecureRequestWarning: Unverified HTTPS request is being made. Adding certificate verification is strongly advised. See: https://urllib3.readthedocs.io/en/latest/security.html\n",
      "  InsecureRequestWarning)\n",
      "C:\\Users\\Наташа\\Anaconda3\\lib\\site-packages\\requests\\packages\\urllib3\\connectionpool.py:838: InsecureRequestWarning: Unverified HTTPS request is being made. Adding certificate verification is strongly advised. See: https://urllib3.readthedocs.io/en/latest/security.html\n",
      "  InsecureRequestWarning)\n",
      "C:\\Users\\Наташа\\Anaconda3\\lib\\site-packages\\requests\\packages\\urllib3\\connectionpool.py:838: InsecureRequestWarning: Unverified HTTPS request is being made. Adding certificate verification is strongly advised. See: https://urllib3.readthedocs.io/en/latest/security.html\n",
      "  InsecureRequestWarning)\n",
      "C:\\Users\\Наташа\\Anaconda3\\lib\\site-packages\\requests\\packages\\urllib3\\connectionpool.py:838: InsecureRequestWarning: Unverified HTTPS request is being made. Adding certificate verification is strongly advised. See: https://urllib3.readthedocs.io/en/latest/security.html\n",
      "  InsecureRequestWarning)\n",
      "C:\\Users\\Наташа\\Anaconda3\\lib\\site-packages\\requests\\packages\\urllib3\\connectionpool.py:838: InsecureRequestWarning: Unverified HTTPS request is being made. Adding certificate verification is strongly advised. See: https://urllib3.readthedocs.io/en/latest/security.html\n",
      "  InsecureRequestWarning)\n",
      "C:\\Users\\Наташа\\Anaconda3\\lib\\site-packages\\requests\\packages\\urllib3\\connectionpool.py:838: InsecureRequestWarning: Unverified HTTPS request is being made. Adding certificate verification is strongly advised. See: https://urllib3.readthedocs.io/en/latest/security.html\n",
      "  InsecureRequestWarning)\n",
      "C:\\Users\\Наташа\\Anaconda3\\lib\\site-packages\\requests\\packages\\urllib3\\connectionpool.py:838: InsecureRequestWarning: Unverified HTTPS request is being made. Adding certificate verification is strongly advised. See: https://urllib3.readthedocs.io/en/latest/security.html\n",
      "  InsecureRequestWarning)\n",
      "C:\\Users\\Наташа\\Anaconda3\\lib\\site-packages\\requests\\packages\\urllib3\\connectionpool.py:838: InsecureRequestWarning: Unverified HTTPS request is being made. Adding certificate verification is strongly advised. See: https://urllib3.readthedocs.io/en/latest/security.html\n",
      "  InsecureRequestWarning)\n",
      "C:\\Users\\Наташа\\Anaconda3\\lib\\site-packages\\requests\\packages\\urllib3\\connectionpool.py:838: InsecureRequestWarning: Unverified HTTPS request is being made. Adding certificate verification is strongly advised. See: https://urllib3.readthedocs.io/en/latest/security.html\n",
      "  InsecureRequestWarning)\n",
      "C:\\Users\\Наташа\\Anaconda3\\lib\\site-packages\\requests\\packages\\urllib3\\connectionpool.py:838: InsecureRequestWarning: Unverified HTTPS request is being made. Adding certificate verification is strongly advised. See: https://urllib3.readthedocs.io/en/latest/security.html\n",
      "  InsecureRequestWarning)\n",
      "C:\\Users\\Наташа\\Anaconda3\\lib\\site-packages\\requests\\packages\\urllib3\\connectionpool.py:838: InsecureRequestWarning: Unverified HTTPS request is being made. Adding certificate verification is strongly advised. See: https://urllib3.readthedocs.io/en/latest/security.html\n",
      "  InsecureRequestWarning)\n",
      "C:\\Users\\Наташа\\Anaconda3\\lib\\site-packages\\requests\\packages\\urllib3\\connectionpool.py:838: InsecureRequestWarning: Unverified HTTPS request is being made. Adding certificate verification is strongly advised. See: https://urllib3.readthedocs.io/en/latest/security.html\n",
      "  InsecureRequestWarning)\n",
      "C:\\Users\\Наташа\\Anaconda3\\lib\\site-packages\\requests\\packages\\urllib3\\connectionpool.py:838: InsecureRequestWarning: Unverified HTTPS request is being made. Adding certificate verification is strongly advised. See: https://urllib3.readthedocs.io/en/latest/security.html\n",
      "  InsecureRequestWarning)\n",
      "C:\\Users\\Наташа\\Anaconda3\\lib\\site-packages\\requests\\packages\\urllib3\\connectionpool.py:838: InsecureRequestWarning: Unverified HTTPS request is being made. Adding certificate verification is strongly advised. See: https://urllib3.readthedocs.io/en/latest/security.html\n",
      "  InsecureRequestWarning)\n",
      "C:\\Users\\Наташа\\Anaconda3\\lib\\site-packages\\requests\\packages\\urllib3\\connectionpool.py:838: InsecureRequestWarning: Unverified HTTPS request is being made. Adding certificate verification is strongly advised. See: https://urllib3.readthedocs.io/en/latest/security.html\n",
      "  InsecureRequestWarning)\n",
      "C:\\Users\\Наташа\\Anaconda3\\lib\\site-packages\\requests\\packages\\urllib3\\connectionpool.py:838: InsecureRequestWarning: Unverified HTTPS request is being made. Adding certificate verification is strongly advised. See: https://urllib3.readthedocs.io/en/latest/security.html\n",
      "  InsecureRequestWarning)\n",
      "C:\\Users\\Наташа\\Anaconda3\\lib\\site-packages\\requests\\packages\\urllib3\\connectionpool.py:838: InsecureRequestWarning: Unverified HTTPS request is being made. Adding certificate verification is strongly advised. See: https://urllib3.readthedocs.io/en/latest/security.html\n",
      "  InsecureRequestWarning)\n",
      "C:\\Users\\Наташа\\Anaconda3\\lib\\site-packages\\requests\\packages\\urllib3\\connectionpool.py:838: InsecureRequestWarning: Unverified HTTPS request is being made. Adding certificate verification is strongly advised. See: https://urllib3.readthedocs.io/en/latest/security.html\n",
      "  InsecureRequestWarning)\n",
      "C:\\Users\\Наташа\\Anaconda3\\lib\\site-packages\\requests\\packages\\urllib3\\connectionpool.py:838: InsecureRequestWarning: Unverified HTTPS request is being made. Adding certificate verification is strongly advised. See: https://urllib3.readthedocs.io/en/latest/security.html\n",
      "  InsecureRequestWarning)\n",
      "C:\\Users\\Наташа\\Anaconda3\\lib\\site-packages\\requests\\packages\\urllib3\\connectionpool.py:838: InsecureRequestWarning: Unverified HTTPS request is being made. Adding certificate verification is strongly advised. See: https://urllib3.readthedocs.io/en/latest/security.html\n",
      "  InsecureRequestWarning)\n",
      "C:\\Users\\Наташа\\Anaconda3\\lib\\site-packages\\requests\\packages\\urllib3\\connectionpool.py:838: InsecureRequestWarning: Unverified HTTPS request is being made. Adding certificate verification is strongly advised. See: https://urllib3.readthedocs.io/en/latest/security.html\n",
      "  InsecureRequestWarning)\n",
      "C:\\Users\\Наташа\\Anaconda3\\lib\\site-packages\\requests\\packages\\urllib3\\connectionpool.py:838: InsecureRequestWarning: Unverified HTTPS request is being made. Adding certificate verification is strongly advised. See: https://urllib3.readthedocs.io/en/latest/security.html\n",
      "  InsecureRequestWarning)\n",
      "C:\\Users\\Наташа\\Anaconda3\\lib\\site-packages\\requests\\packages\\urllib3\\connectionpool.py:838: InsecureRequestWarning: Unverified HTTPS request is being made. Adding certificate verification is strongly advised. See: https://urllib3.readthedocs.io/en/latest/security.html\n",
      "  InsecureRequestWarning)\n",
      "C:\\Users\\Наташа\\Anaconda3\\lib\\site-packages\\requests\\packages\\urllib3\\connectionpool.py:838: InsecureRequestWarning: Unverified HTTPS request is being made. Adding certificate verification is strongly advised. See: https://urllib3.readthedocs.io/en/latest/security.html\n",
      "  InsecureRequestWarning)\n",
      "C:\\Users\\Наташа\\Anaconda3\\lib\\site-packages\\requests\\packages\\urllib3\\connectionpool.py:838: InsecureRequestWarning: Unverified HTTPS request is being made. Adding certificate verification is strongly advised. See: https://urllib3.readthedocs.io/en/latest/security.html\n",
      "  InsecureRequestWarning)\n",
      "C:\\Users\\Наташа\\Anaconda3\\lib\\site-packages\\requests\\packages\\urllib3\\connectionpool.py:838: InsecureRequestWarning: Unverified HTTPS request is being made. Adding certificate verification is strongly advised. See: https://urllib3.readthedocs.io/en/latest/security.html\n",
      "  InsecureRequestWarning)\n",
      "C:\\Users\\Наташа\\Anaconda3\\lib\\site-packages\\requests\\packages\\urllib3\\connectionpool.py:838: InsecureRequestWarning: Unverified HTTPS request is being made. Adding certificate verification is strongly advised. See: https://urllib3.readthedocs.io/en/latest/security.html\n",
      "  InsecureRequestWarning)\n",
      "C:\\Users\\Наташа\\Anaconda3\\lib\\site-packages\\requests\\packages\\urllib3\\connectionpool.py:838: InsecureRequestWarning: Unverified HTTPS request is being made. Adding certificate verification is strongly advised. See: https://urllib3.readthedocs.io/en/latest/security.html\n",
      "  InsecureRequestWarning)\n",
      "C:\\Users\\Наташа\\Anaconda3\\lib\\site-packages\\requests\\packages\\urllib3\\connectionpool.py:838: InsecureRequestWarning: Unverified HTTPS request is being made. Adding certificate verification is strongly advised. See: https://urllib3.readthedocs.io/en/latest/security.html\n",
      "  InsecureRequestWarning)\n",
      "C:\\Users\\Наташа\\Anaconda3\\lib\\site-packages\\requests\\packages\\urllib3\\connectionpool.py:838: InsecureRequestWarning: Unverified HTTPS request is being made. Adding certificate verification is strongly advised. See: https://urllib3.readthedocs.io/en/latest/security.html\n",
      "  InsecureRequestWarning)\n",
      "C:\\Users\\Наташа\\Anaconda3\\lib\\site-packages\\requests\\packages\\urllib3\\connectionpool.py:838: InsecureRequestWarning: Unverified HTTPS request is being made. Adding certificate verification is strongly advised. See: https://urllib3.readthedocs.io/en/latest/security.html\n",
      "  InsecureRequestWarning)\n",
      "C:\\Users\\Наташа\\Anaconda3\\lib\\site-packages\\requests\\packages\\urllib3\\connectionpool.py:838: InsecureRequestWarning: Unverified HTTPS request is being made. Adding certificate verification is strongly advised. See: https://urllib3.readthedocs.io/en/latest/security.html\n",
      "  InsecureRequestWarning)\n",
      "C:\\Users\\Наташа\\Anaconda3\\lib\\site-packages\\requests\\packages\\urllib3\\connectionpool.py:838: InsecureRequestWarning: Unverified HTTPS request is being made. Adding certificate verification is strongly advised. See: https://urllib3.readthedocs.io/en/latest/security.html\n",
      "  InsecureRequestWarning)\n",
      "C:\\Users\\Наташа\\Anaconda3\\lib\\site-packages\\requests\\packages\\urllib3\\connectionpool.py:838: InsecureRequestWarning: Unverified HTTPS request is being made. Adding certificate verification is strongly advised. See: https://urllib3.readthedocs.io/en/latest/security.html\n",
      "  InsecureRequestWarning)\n",
      "C:\\Users\\Наташа\\Anaconda3\\lib\\site-packages\\requests\\packages\\urllib3\\connectionpool.py:838: InsecureRequestWarning: Unverified HTTPS request is being made. Adding certificate verification is strongly advised. See: https://urllib3.readthedocs.io/en/latest/security.html\n",
      "  InsecureRequestWarning)\n",
      "C:\\Users\\Наташа\\Anaconda3\\lib\\site-packages\\requests\\packages\\urllib3\\connectionpool.py:838: InsecureRequestWarning: Unverified HTTPS request is being made. Adding certificate verification is strongly advised. See: https://urllib3.readthedocs.io/en/latest/security.html\n",
      "  InsecureRequestWarning)\n",
      "C:\\Users\\Наташа\\Anaconda3\\lib\\site-packages\\requests\\packages\\urllib3\\connectionpool.py:838: InsecureRequestWarning: Unverified HTTPS request is being made. Adding certificate verification is strongly advised. See: https://urllib3.readthedocs.io/en/latest/security.html\n",
      "  InsecureRequestWarning)\n",
      "C:\\Users\\Наташа\\Anaconda3\\lib\\site-packages\\requests\\packages\\urllib3\\connectionpool.py:838: InsecureRequestWarning: Unverified HTTPS request is being made. Adding certificate verification is strongly advised. See: https://urllib3.readthedocs.io/en/latest/security.html\n",
      "  InsecureRequestWarning)\n",
      "C:\\Users\\Наташа\\Anaconda3\\lib\\site-packages\\requests\\packages\\urllib3\\connectionpool.py:838: InsecureRequestWarning: Unverified HTTPS request is being made. Adding certificate verification is strongly advised. See: https://urllib3.readthedocs.io/en/latest/security.html\n",
      "  InsecureRequestWarning)\n",
      "C:\\Users\\Наташа\\Anaconda3\\lib\\site-packages\\requests\\packages\\urllib3\\connectionpool.py:838: InsecureRequestWarning: Unverified HTTPS request is being made. Adding certificate verification is strongly advised. See: https://urllib3.readthedocs.io/en/latest/security.html\n",
      "  InsecureRequestWarning)\n",
      "C:\\Users\\Наташа\\Anaconda3\\lib\\site-packages\\requests\\packages\\urllib3\\connectionpool.py:838: InsecureRequestWarning: Unverified HTTPS request is being made. Adding certificate verification is strongly advised. See: https://urllib3.readthedocs.io/en/latest/security.html\n",
      "  InsecureRequestWarning)\n",
      "C:\\Users\\Наташа\\Anaconda3\\lib\\site-packages\\requests\\packages\\urllib3\\connectionpool.py:838: InsecureRequestWarning: Unverified HTTPS request is being made. Adding certificate verification is strongly advised. See: https://urllib3.readthedocs.io/en/latest/security.html\n",
      "  InsecureRequestWarning)\n",
      "C:\\Users\\Наташа\\Anaconda3\\lib\\site-packages\\requests\\packages\\urllib3\\connectionpool.py:838: InsecureRequestWarning: Unverified HTTPS request is being made. Adding certificate verification is strongly advised. See: https://urllib3.readthedocs.io/en/latest/security.html\n",
      "  InsecureRequestWarning)\n",
      "C:\\Users\\Наташа\\Anaconda3\\lib\\site-packages\\requests\\packages\\urllib3\\connectionpool.py:838: InsecureRequestWarning: Unverified HTTPS request is being made. Adding certificate verification is strongly advised. See: https://urllib3.readthedocs.io/en/latest/security.html\n",
      "  InsecureRequestWarning)\n",
      "C:\\Users\\Наташа\\Anaconda3\\lib\\site-packages\\requests\\packages\\urllib3\\connectionpool.py:838: InsecureRequestWarning: Unverified HTTPS request is being made. Adding certificate verification is strongly advised. See: https://urllib3.readthedocs.io/en/latest/security.html\n",
      "  InsecureRequestWarning)\n",
      "C:\\Users\\Наташа\\Anaconda3\\lib\\site-packages\\requests\\packages\\urllib3\\connectionpool.py:838: InsecureRequestWarning: Unverified HTTPS request is being made. Adding certificate verification is strongly advised. See: https://urllib3.readthedocs.io/en/latest/security.html\n",
      "  InsecureRequestWarning)\n",
      "C:\\Users\\Наташа\\Anaconda3\\lib\\site-packages\\requests\\packages\\urllib3\\connectionpool.py:838: InsecureRequestWarning: Unverified HTTPS request is being made. Adding certificate verification is strongly advised. See: https://urllib3.readthedocs.io/en/latest/security.html\n",
      "  InsecureRequestWarning)\n",
      "C:\\Users\\Наташа\\Anaconda3\\lib\\site-packages\\requests\\packages\\urllib3\\connectionpool.py:838: InsecureRequestWarning: Unverified HTTPS request is being made. Adding certificate verification is strongly advised. See: https://urllib3.readthedocs.io/en/latest/security.html\n",
      "  InsecureRequestWarning)\n",
      "C:\\Users\\Наташа\\Anaconda3\\lib\\site-packages\\requests\\packages\\urllib3\\connectionpool.py:838: InsecureRequestWarning: Unverified HTTPS request is being made. Adding certificate verification is strongly advised. See: https://urllib3.readthedocs.io/en/latest/security.html\n",
      "  InsecureRequestWarning)\n",
      "C:\\Users\\Наташа\\Anaconda3\\lib\\site-packages\\requests\\packages\\urllib3\\connectionpool.py:838: InsecureRequestWarning: Unverified HTTPS request is being made. Adding certificate verification is strongly advised. See: https://urllib3.readthedocs.io/en/latest/security.html\n",
      "  InsecureRequestWarning)\n",
      "C:\\Users\\Наташа\\Anaconda3\\lib\\site-packages\\requests\\packages\\urllib3\\connectionpool.py:838: InsecureRequestWarning: Unverified HTTPS request is being made. Adding certificate verification is strongly advised. See: https://urllib3.readthedocs.io/en/latest/security.html\n",
      "  InsecureRequestWarning)\n",
      "C:\\Users\\Наташа\\Anaconda3\\lib\\site-packages\\requests\\packages\\urllib3\\connectionpool.py:838: InsecureRequestWarning: Unverified HTTPS request is being made. Adding certificate verification is strongly advised. See: https://urllib3.readthedocs.io/en/latest/security.html\n",
      "  InsecureRequestWarning)\n",
      "C:\\Users\\Наташа\\Anaconda3\\lib\\site-packages\\requests\\packages\\urllib3\\connectionpool.py:838: InsecureRequestWarning: Unverified HTTPS request is being made. Adding certificate verification is strongly advised. See: https://urllib3.readthedocs.io/en/latest/security.html\n",
      "  InsecureRequestWarning)\n",
      "C:\\Users\\Наташа\\Anaconda3\\lib\\site-packages\\requests\\packages\\urllib3\\connectionpool.py:838: InsecureRequestWarning: Unverified HTTPS request is being made. Adding certificate verification is strongly advised. See: https://urllib3.readthedocs.io/en/latest/security.html\n",
      "  InsecureRequestWarning)\n",
      "C:\\Users\\Наташа\\Anaconda3\\lib\\site-packages\\requests\\packages\\urllib3\\connectionpool.py:838: InsecureRequestWarning: Unverified HTTPS request is being made. Adding certificate verification is strongly advised. See: https://urllib3.readthedocs.io/en/latest/security.html\n",
      "  InsecureRequestWarning)\n",
      "C:\\Users\\Наташа\\Anaconda3\\lib\\site-packages\\requests\\packages\\urllib3\\connectionpool.py:838: InsecureRequestWarning: Unverified HTTPS request is being made. Adding certificate verification is strongly advised. See: https://urllib3.readthedocs.io/en/latest/security.html\n",
      "  InsecureRequestWarning)\n",
      "C:\\Users\\Наташа\\Anaconda3\\lib\\site-packages\\requests\\packages\\urllib3\\connectionpool.py:838: InsecureRequestWarning: Unverified HTTPS request is being made. Adding certificate verification is strongly advised. See: https://urllib3.readthedocs.io/en/latest/security.html\n",
      "  InsecureRequestWarning)\n",
      "C:\\Users\\Наташа\\Anaconda3\\lib\\site-packages\\requests\\packages\\urllib3\\connectionpool.py:838: InsecureRequestWarning: Unverified HTTPS request is being made. Adding certificate verification is strongly advised. See: https://urllib3.readthedocs.io/en/latest/security.html\n",
      "  InsecureRequestWarning)\n",
      "C:\\Users\\Наташа\\Anaconda3\\lib\\site-packages\\requests\\packages\\urllib3\\connectionpool.py:838: InsecureRequestWarning: Unverified HTTPS request is being made. Adding certificate verification is strongly advised. See: https://urllib3.readthedocs.io/en/latest/security.html\n",
      "  InsecureRequestWarning)\n",
      "C:\\Users\\Наташа\\Anaconda3\\lib\\site-packages\\requests\\packages\\urllib3\\connectionpool.py:838: InsecureRequestWarning: Unverified HTTPS request is being made. Adding certificate verification is strongly advised. See: https://urllib3.readthedocs.io/en/latest/security.html\n",
      "  InsecureRequestWarning)\n",
      "C:\\Users\\Наташа\\Anaconda3\\lib\\site-packages\\requests\\packages\\urllib3\\connectionpool.py:838: InsecureRequestWarning: Unverified HTTPS request is being made. Adding certificate verification is strongly advised. See: https://urllib3.readthedocs.io/en/latest/security.html\n",
      "  InsecureRequestWarning)\n",
      "C:\\Users\\Наташа\\Anaconda3\\lib\\site-packages\\requests\\packages\\urllib3\\connectionpool.py:838: InsecureRequestWarning: Unverified HTTPS request is being made. Adding certificate verification is strongly advised. See: https://urllib3.readthedocs.io/en/latest/security.html\n",
      "  InsecureRequestWarning)\n",
      "C:\\Users\\Наташа\\Anaconda3\\lib\\site-packages\\requests\\packages\\urllib3\\connectionpool.py:838: InsecureRequestWarning: Unverified HTTPS request is being made. Adding certificate verification is strongly advised. See: https://urllib3.readthedocs.io/en/latest/security.html\n",
      "  InsecureRequestWarning)\n",
      "C:\\Users\\Наташа\\Anaconda3\\lib\\site-packages\\requests\\packages\\urllib3\\connectionpool.py:838: InsecureRequestWarning: Unverified HTTPS request is being made. Adding certificate verification is strongly advised. See: https://urllib3.readthedocs.io/en/latest/security.html\n",
      "  InsecureRequestWarning)\n",
      "C:\\Users\\Наташа\\Anaconda3\\lib\\site-packages\\requests\\packages\\urllib3\\connectionpool.py:838: InsecureRequestWarning: Unverified HTTPS request is being made. Adding certificate verification is strongly advised. See: https://urllib3.readthedocs.io/en/latest/security.html\n",
      "  InsecureRequestWarning)\n",
      "C:\\Users\\Наташа\\Anaconda3\\lib\\site-packages\\requests\\packages\\urllib3\\connectionpool.py:838: InsecureRequestWarning: Unverified HTTPS request is being made. Adding certificate verification is strongly advised. See: https://urllib3.readthedocs.io/en/latest/security.html\n",
      "  InsecureRequestWarning)\n",
      "C:\\Users\\Наташа\\Anaconda3\\lib\\site-packages\\requests\\packages\\urllib3\\connectionpool.py:838: InsecureRequestWarning: Unverified HTTPS request is being made. Adding certificate verification is strongly advised. See: https://urllib3.readthedocs.io/en/latest/security.html\n",
      "  InsecureRequestWarning)\n",
      "C:\\Users\\Наташа\\Anaconda3\\lib\\site-packages\\requests\\packages\\urllib3\\connectionpool.py:838: InsecureRequestWarning: Unverified HTTPS request is being made. Adding certificate verification is strongly advised. See: https://urllib3.readthedocs.io/en/latest/security.html\n",
      "  InsecureRequestWarning)\n",
      "C:\\Users\\Наташа\\Anaconda3\\lib\\site-packages\\requests\\packages\\urllib3\\connectionpool.py:838: InsecureRequestWarning: Unverified HTTPS request is being made. Adding certificate verification is strongly advised. See: https://urllib3.readthedocs.io/en/latest/security.html\n",
      "  InsecureRequestWarning)\n",
      "C:\\Users\\Наташа\\Anaconda3\\lib\\site-packages\\requests\\packages\\urllib3\\connectionpool.py:838: InsecureRequestWarning: Unverified HTTPS request is being made. Adding certificate verification is strongly advised. See: https://urllib3.readthedocs.io/en/latest/security.html\n",
      "  InsecureRequestWarning)\n",
      "C:\\Users\\Наташа\\Anaconda3\\lib\\site-packages\\requests\\packages\\urllib3\\connectionpool.py:838: InsecureRequestWarning: Unverified HTTPS request is being made. Adding certificate verification is strongly advised. See: https://urllib3.readthedocs.io/en/latest/security.html\n",
      "  InsecureRequestWarning)\n",
      "C:\\Users\\Наташа\\Anaconda3\\lib\\site-packages\\requests\\packages\\urllib3\\connectionpool.py:838: InsecureRequestWarning: Unverified HTTPS request is being made. Adding certificate verification is strongly advised. See: https://urllib3.readthedocs.io/en/latest/security.html\n",
      "  InsecureRequestWarning)\n",
      "C:\\Users\\Наташа\\Anaconda3\\lib\\site-packages\\requests\\packages\\urllib3\\connectionpool.py:838: InsecureRequestWarning: Unverified HTTPS request is being made. Adding certificate verification is strongly advised. See: https://urllib3.readthedocs.io/en/latest/security.html\n",
      "  InsecureRequestWarning)\n",
      "C:\\Users\\Наташа\\Anaconda3\\lib\\site-packages\\requests\\packages\\urllib3\\connectionpool.py:838: InsecureRequestWarning: Unverified HTTPS request is being made. Adding certificate verification is strongly advised. See: https://urllib3.readthedocs.io/en/latest/security.html\n",
      "  InsecureRequestWarning)\n",
      "C:\\Users\\Наташа\\Anaconda3\\lib\\site-packages\\requests\\packages\\urllib3\\connectionpool.py:838: InsecureRequestWarning: Unverified HTTPS request is being made. Adding certificate verification is strongly advised. See: https://urllib3.readthedocs.io/en/latest/security.html\n",
      "  InsecureRequestWarning)\n",
      "C:\\Users\\Наташа\\Anaconda3\\lib\\site-packages\\requests\\packages\\urllib3\\connectionpool.py:838: InsecureRequestWarning: Unverified HTTPS request is being made. Adding certificate verification is strongly advised. See: https://urllib3.readthedocs.io/en/latest/security.html\n",
      "  InsecureRequestWarning)\n",
      "C:\\Users\\Наташа\\Anaconda3\\lib\\site-packages\\requests\\packages\\urllib3\\connectionpool.py:838: InsecureRequestWarning: Unverified HTTPS request is being made. Adding certificate verification is strongly advised. See: https://urllib3.readthedocs.io/en/latest/security.html\n",
      "  InsecureRequestWarning)\n",
      "C:\\Users\\Наташа\\Anaconda3\\lib\\site-packages\\requests\\packages\\urllib3\\connectionpool.py:838: InsecureRequestWarning: Unverified HTTPS request is being made. Adding certificate verification is strongly advised. See: https://urllib3.readthedocs.io/en/latest/security.html\n",
      "  InsecureRequestWarning)\n",
      "C:\\Users\\Наташа\\Anaconda3\\lib\\site-packages\\requests\\packages\\urllib3\\connectionpool.py:838: InsecureRequestWarning: Unverified HTTPS request is being made. Adding certificate verification is strongly advised. See: https://urllib3.readthedocs.io/en/latest/security.html\n",
      "  InsecureRequestWarning)\n",
      "C:\\Users\\Наташа\\Anaconda3\\lib\\site-packages\\requests\\packages\\urllib3\\connectionpool.py:838: InsecureRequestWarning: Unverified HTTPS request is being made. Adding certificate verification is strongly advised. See: https://urllib3.readthedocs.io/en/latest/security.html\n",
      "  InsecureRequestWarning)\n",
      "C:\\Users\\Наташа\\Anaconda3\\lib\\site-packages\\requests\\packages\\urllib3\\connectionpool.py:838: InsecureRequestWarning: Unverified HTTPS request is being made. Adding certificate verification is strongly advised. See: https://urllib3.readthedocs.io/en/latest/security.html\n",
      "  InsecureRequestWarning)\n",
      "C:\\Users\\Наташа\\Anaconda3\\lib\\site-packages\\requests\\packages\\urllib3\\connectionpool.py:838: InsecureRequestWarning: Unverified HTTPS request is being made. Adding certificate verification is strongly advised. See: https://urllib3.readthedocs.io/en/latest/security.html\n",
      "  InsecureRequestWarning)\n",
      "C:\\Users\\Наташа\\Anaconda3\\lib\\site-packages\\requests\\packages\\urllib3\\connectionpool.py:838: InsecureRequestWarning: Unverified HTTPS request is being made. Adding certificate verification is strongly advised. See: https://urllib3.readthedocs.io/en/latest/security.html\n",
      "  InsecureRequestWarning)\n",
      "C:\\Users\\Наташа\\Anaconda3\\lib\\site-packages\\requests\\packages\\urllib3\\connectionpool.py:838: InsecureRequestWarning: Unverified HTTPS request is being made. Adding certificate verification is strongly advised. See: https://urllib3.readthedocs.io/en/latest/security.html\n",
      "  InsecureRequestWarning)\n",
      "C:\\Users\\Наташа\\Anaconda3\\lib\\site-packages\\requests\\packages\\urllib3\\connectionpool.py:838: InsecureRequestWarning: Unverified HTTPS request is being made. Adding certificate verification is strongly advised. See: https://urllib3.readthedocs.io/en/latest/security.html\n",
      "  InsecureRequestWarning)\n",
      "C:\\Users\\Наташа\\Anaconda3\\lib\\site-packages\\requests\\packages\\urllib3\\connectionpool.py:838: InsecureRequestWarning: Unverified HTTPS request is being made. Adding certificate verification is strongly advised. See: https://urllib3.readthedocs.io/en/latest/security.html\n",
      "  InsecureRequestWarning)\n",
      "C:\\Users\\Наташа\\Anaconda3\\lib\\site-packages\\requests\\packages\\urllib3\\connectionpool.py:838: InsecureRequestWarning: Unverified HTTPS request is being made. Adding certificate verification is strongly advised. See: https://urllib3.readthedocs.io/en/latest/security.html\n",
      "  InsecureRequestWarning)\n",
      "C:\\Users\\Наташа\\Anaconda3\\lib\\site-packages\\requests\\packages\\urllib3\\connectionpool.py:838: InsecureRequestWarning: Unverified HTTPS request is being made. Adding certificate verification is strongly advised. See: https://urllib3.readthedocs.io/en/latest/security.html\n",
      "  InsecureRequestWarning)\n",
      "C:\\Users\\Наташа\\Anaconda3\\lib\\site-packages\\requests\\packages\\urllib3\\connectionpool.py:838: InsecureRequestWarning: Unverified HTTPS request is being made. Adding certificate verification is strongly advised. See: https://urllib3.readthedocs.io/en/latest/security.html\n",
      "  InsecureRequestWarning)\n",
      "C:\\Users\\Наташа\\Anaconda3\\lib\\site-packages\\requests\\packages\\urllib3\\connectionpool.py:838: InsecureRequestWarning: Unverified HTTPS request is being made. Adding certificate verification is strongly advised. See: https://urllib3.readthedocs.io/en/latest/security.html\n",
      "  InsecureRequestWarning)\n",
      "C:\\Users\\Наташа\\Anaconda3\\lib\\site-packages\\requests\\packages\\urllib3\\connectionpool.py:838: InsecureRequestWarning: Unverified HTTPS request is being made. Adding certificate verification is strongly advised. See: https://urllib3.readthedocs.io/en/latest/security.html\n",
      "  InsecureRequestWarning)\n",
      "C:\\Users\\Наташа\\Anaconda3\\lib\\site-packages\\requests\\packages\\urllib3\\connectionpool.py:838: InsecureRequestWarning: Unverified HTTPS request is being made. Adding certificate verification is strongly advised. See: https://urllib3.readthedocs.io/en/latest/security.html\n",
      "  InsecureRequestWarning)\n",
      "C:\\Users\\Наташа\\Anaconda3\\lib\\site-packages\\requests\\packages\\urllib3\\connectionpool.py:838: InsecureRequestWarning: Unverified HTTPS request is being made. Adding certificate verification is strongly advised. See: https://urllib3.readthedocs.io/en/latest/security.html\n",
      "  InsecureRequestWarning)\n"
     ]
    },
    {
     "name": "stdout",
     "output_type": "stream",
     "text": [
      "97\n"
     ]
    },
    {
     "name": "stderr",
     "output_type": "stream",
     "text": [
      "C:\\Users\\Наташа\\Anaconda3\\lib\\site-packages\\requests\\packages\\urllib3\\connectionpool.py:838: InsecureRequestWarning: Unverified HTTPS request is being made. Adding certificate verification is strongly advised. See: https://urllib3.readthedocs.io/en/latest/security.html\n",
      "  InsecureRequestWarning)\n"
     ]
    }
   ],
   "source": [
    "\n",
    "response= requests.get('http://db.chgk.info', verify=False)\n",
    "n = 0# число обработанных турниров\n",
    "for link in links:\n",
    "    path = 'http://db.chgk.info'+link\n",
    "    n=n+1\n",
    "    \n",
    "    \n",
    "    response= requests.get(path, verify=False)\n",
    "    \n",
    "    #print(response.status_code)\n",
    "    #print(path)\n",
    "    i = 0\n",
    "    \n",
    "    tree1 = lxml.html.fromstring(response.text)\n",
    "    for que in tree1.xpath('//div[@class=\"question\"]'):\n",
    "        \n",
    "        quest =  que.xpath('p[1]/text()')\n",
    "        \n",
    "        #print(quest)\n",
    "       \n",
    "        \n",
    "        if len(quest[1].encode('utf-8')) != 5:\n",
    "            question = quest\n",
    "            answer = que.xpath('div/p[1]/text()')\n",
    "            i = i+1\n",
    "            cursor.execute(\"INSERT INTO Base VALUES (?,?,?)\", (i, question[1], answer[1]))\n",
    "            conn.commit()\n",
    "            \n",
    "print(n)       \n",
    "        "
   ]
  },
  {
   "cell_type": "code",
   "execution_count": 93,
   "metadata": {
    "collapsed": false
   },
   "outputs": [
    {
     "name": "stdout",
     "output_type": "stream",
     "text": [
      "QUESTION : (' Какое числительное присутствует в названии комедии 2005 года, где\\nглавный герой утверждает, что распакованные игрушки теряют в стоимости?        ',)\n",
      "ANSWER: (' 40.    ',)\n"
     ]
    }
   ],
   "source": [
    "k = 500\n",
    "sql = \"SELECT question FROM Base where id =?  \"\n",
    "cursor.execute(sql,[k])\n",
    "print('QUESTION :' ,  cursor.fetchone())\n",
    "sql = \"SELECT answer FROM Base where id = ? \"\n",
    "cursor.execute(sql,[k])\n",
    "print('ANSWER:' ,  cursor.fetchone())"
   ]
  },
  {
   "cell_type": "code",
   "execution_count": 104,
   "metadata": {
    "collapsed": false
   },
   "outputs": [
    {
     "name": "stdout",
     "output_type": "stream",
     "text": [
      "[(2020,)]\n"
     ]
    }
   ],
   "source": [
    "sql = \"SELECT count(*) FROM Base\"\n",
    "cursor.execute(sql)\n",
    "print(cursor.fetchall())"
   ]
  },
  {
   "cell_type": "code",
   "execution_count": null,
   "metadata": {
    "collapsed": true
   },
   "outputs": [],
   "source": []
  }
 ],
 "metadata": {
  "anaconda-cloud": {},
  "kernelspec": {
   "display_name": "Python [default]",
   "language": "python",
   "name": "python3"
  },
  "language_info": {
   "codemirror_mode": {
    "name": "ipython",
    "version": 3
   },
   "file_extension": ".py",
   "mimetype": "text/x-python",
   "name": "python",
   "nbconvert_exporter": "python",
   "pygments_lexer": "ipython3",
   "version": "3.5.2"
  }
 },
 "nbformat": 4,
 "nbformat_minor": 1
}
