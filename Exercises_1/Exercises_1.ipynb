{
 "cells": [
  {
   "cell_type": "markdown",
   "metadata": {},
   "source": [
    "# Задание 1\n",
    "\n",
    "[Свертка списка](https://ru.wikipedia.org/wiki/%D0%A1%D0%B2%D1%91%D1%80%D1%82%D0%BA%D0%B0_%D1%81%D0%BF%D0%B8%D1%81%D0%BA%D0%B0) -  это обобщенная операция над списком, c помощью которой можно преобразовать список в единое значение. Например рассмотрим реализации свертки слева и свертки справа (левоассоциативную свертку и правоассоциативную свертку):"
   ]
  },
  {
   "cell_type": "code",
   "execution_count": null,
   "metadata": {
    "collapsed": true
   },
   "outputs": [],
   "source": [
    "def foldl(f, x0, lst):\n",
    "    if not lst:\n",
    "        return x0\n",
    "    return foldl(f, f(x0, lst[0]), lst[1:])\n",
    "\n",
    "def foldr(f, x0, lst):\n",
    "    if not lst:\n",
    "        return x0\n",
    "    return f(lst[0], foldr(f, x0, lst[1:]))"
   ]
  },
  {
   "cell_type": "code",
   "execution_count": null,
   "metadata": {
    "collapsed": false
   },
   "outputs": [],
   "source": [
    "#сумма\n",
    "foldl(lambda x, y: x + y, 0, [1, 2, 3])"
   ]
  },
  {
   "cell_type": "code",
   "execution_count": null,
   "metadata": {
    "collapsed": false
   },
   "outputs": [],
   "source": [
    "#конкатенация\n",
    "foldl(lambda x, y: '{}{}'.format(x, y), '', [1, 2, 3])"
   ]
  },
  {
   "cell_type": "code",
   "execution_count": null,
   "metadata": {
    "collapsed": false
   },
   "outputs": [],
   "source": [
    "f = lambda x, y: x / y\n",
    "foldl(f, 1, [1, 2, 3]), \\\n",
    "foldr(f, 1, [1, 2, 3])"
   ]
  },
  {
   "cell_type": "markdown",
   "metadata": {},
   "source": [
    "Задача: реализовать foldl через foldr и наоборот. Вместо многоточий нужно вставить выражения, которые бы привели к нужному результату."
   ]
  },
  {
   "cell_type": "code",
   "execution_count": null,
   "metadata": {
    "collapsed": true
   },
   "outputs": [],
   "source": [
    "def foldl2(f, x0, lst):\n",
    "    return foldr(..., ..., lst)(...)"
   ]
  },
  {
   "cell_type": "code",
   "execution_count": null,
   "metadata": {
    "collapsed": true
   },
   "outputs": [],
   "source": [
    "def foldr2(f, x0, lst):\n",
    "    return foldl(..., ..., lst)(...)"
   ]
  },
  {
   "cell_type": "markdown",
   "metadata": {},
   "source": [
    "# Задание 2\n",
    "\n",
    "нужно написать функцию, которая принимает две строки и проверяет, входит ли хотя бы одна перестановка второй строки в первую. Например:\n",
    "\n",
    "> a = 'abcrotm'\n",
    "> \n",
    "> b = 'tro'\n",
    "\n",
    "функция def check_inv(a, b) вернет True, так как 'rot' содержится в 'abcrotm'. Нужно подумать как можно более оптимальный алгоритм и оценить его сложность. "
   ]
  },
  {
   "cell_type": "code",
   "execution_count": 6,
   "metadata": {
    "collapsed": false
   },
   "outputs": [
    {
     "name": "stdout",
     "output_type": "stream",
     "text": [
      "Перестановка b входит в a\n",
      "True\n"
     ]
    }
   ],
   "source": [
    "def right(stack , Ind): #\n",
    "    stack1=[]\n",
    "    ind = Ind\n",
    "    k = -1\n",
    "    for  l in stack : #m-1\n",
    "        k+=1\n",
    "        if ind+1<=len_aa:\n",
    "            if a[ind+1]==l :\n",
    "                 ind +=1\n",
    "            else:\n",
    "                stack1.append(l)          \n",
    "    return stack1\n",
    "            \n",
    "def left(stack,Ind):\n",
    "    stack1=[]\n",
    "    ind = Ind\n",
    "    k = -1\n",
    "    for  l in stack :  #<=m-1\n",
    "        k+=1\n",
    "        if ind-1>=0 :           \n",
    "            if (a[ind-1] == l) :\n",
    "                ind =ind-1\n",
    "            else :\n",
    "                stack1.append(l)    \n",
    "    return stack1\n",
    "   \n",
    "\n",
    "\n",
    "def check_inv(a,b):\n",
    "    stack = ['-1']\n",
    "    Ind = 0\n",
    "    len_a = len(a)\n",
    "    len_b = len(b)  \n",
    "\n",
    "    if len_a > len_b : \n",
    "        while len(stack)!=0:  #l<=m\n",
    "            stack=[]       \n",
    "            for c in b:\n",
    "                stack.append(c)\n",
    "            y = stack.pop(0)\n",
    "            start = Ind\n",
    "            try:\n",
    "                Ind = a.index(y,start+1,len_a) # n\n",
    "            except Exception:\n",
    "                print('Перестановка b не входит в a')\n",
    "                return(False)      \n",
    "            stack = right(stack,Ind) #m-1\n",
    "            if len(stack) == 0 : \n",
    "                    print ('Перестановка b входит в a')\n",
    "                    return(True)\n",
    "        \n",
    "            stack = left(stack,Ind) # <= (m-1)\n",
    "            if len(stack) == 0 : \n",
    "                    print ('Перестановка b входит в a')\n",
    "                    return(True)\n",
    "                    \n",
    "    else :\n",
    "        print ('b длинее a')\n",
    "        return (False)\n",
    "\n",
    "    \n",
    "a ='abcrotmamb' # n -len(a)\n",
    "b ='torm'# m-len(b)\n",
    "len_aa = len(a)\n",
    "len_bb = len(b)\n",
    "\n",
    "print (check_inv(a,b))\n",
    "            \n",
    "# m<n ;            \n",
    "# в худшем случае o(n*n), в среднем O(m*n)\n",
    "  \n",
    "    "
   ]
  },
  {
   "cell_type": "markdown",
   "metadata": {},
   "source": [
    "# Задание 3\n",
    "\n",
    "Реализовать бинарное дерево (класс Tree), в нём методы __repr__, __str__, __iter__ (итерация только по листьям)."
   ]
  },
  {
   "cell_type": "code",
   "execution_count": 8,
   "metadata": {
    "collapsed": false
   },
   "outputs": [
    {
     "name": "stdout",
     "output_type": "stream",
     "text": [
      "10,1,3,None,None,4,None,None,2,None,None\n",
      "True\n",
      "Tree(10,Tree(1,Tree(3,None,None),Tree(4,None,None)),Tree(2,None,None))\n",
      "10,1,3,None,None,4,None,None,2,None,None\n"
     ]
    }
   ],
   "source": [
    "class Tree: \n",
    "    def __init__(self, value=None, left=None,right=None):\n",
    "        self.left = left\n",
    "        self.right = right\n",
    "        self.value = value\n",
    "        \n",
    "    def __iter__(self):\n",
    "        if self.left:\n",
    "            \n",
    "            yield from iter(self.left)\n",
    "        if self.right:\n",
    "            #print(self.right)\n",
    "            yield from iter(self.right)\n",
    "        else:\n",
    "            #print(self.value)\n",
    "            yield  self.value\n",
    "                \n",
    " \n",
    "    \n",
    "    def __repr__(self):\n",
    "        return 'Tree({value},{left},{right})'.format(value = self.value, left= repr(self.left),\n",
    "                                                  right = repr(self.right))\n",
    "    def __str__(self):\n",
    "        return '{val},{l},{r}'.format(val=self.value, l = str(self.left), r= str(self.right))\n",
    "    \n",
    "tree = Tree(10, Tree(1, Tree(3), Tree(4)), Tree(2))\n",
    "tree #repr\n",
    "print(tree)#str\n",
    "print(list(tree)==[3,4,2])\n",
    "print (tree.__repr__())\n",
    "print (tree.__str__())"
   ]
  },
  {
   "cell_type": "markdown",
   "metadata": {
    "collapsed": true
   },
   "source": [
    "# Задание 4\n",
    "\n",
    "Реализовать простейший калькулятор математических выражений:\n",
    "- только целые числа\n",
    "- **+**, **\\-**, **\\***, **\\**\n",
    "- скобки\n",
    "\n",
    "**Можно использовать регулярные выражения**"
   ]
  },
  {
   "cell_type": "code",
   "execution_count": null,
   "metadata": {
    "collapsed": true
   },
   "outputs": [],
   "source": [
    "def calc(expr):\n",
    "    pass\n",
    "\n",
    "calc('2 * (15 - 3 * 4) - 2') == 4"
   ]
  },
  {
   "cell_type": "code",
   "execution_count": 19,
   "metadata": {
    "collapsed": false
   },
   "outputs": [
    {
     "name": "stdout",
     "output_type": "stream",
     "text": [
      "2.0\n",
      "20.0\n",
      "-\n",
      "3.0\n",
      "*\n",
      "-54.0\n"
     ]
    }
   ],
   "source": [
    "def separate(term):\n",
    "    number =''\n",
    "    for i in term:\n",
    "        if i in numbers:\n",
    "            number=number+i\n",
    "        elif len(number)!=0:\n",
    "            yield float(number)\n",
    "            number =''\n",
    "        if i in brackets:\n",
    "            yield i\n",
    "        if i in operations:\n",
    "            yield i\n",
    "    if len(number)!=0:\n",
    "            yield float(number)\n",
    "            \n",
    "def operation_priory(sign):\n",
    "    if sign=='+'or sign=='-' : return 1\n",
    "    elif sign=='*' or '/' :return 2\n",
    "     \n",
    "def sorted_station(sep_term):\n",
    "    stack = []\n",
    "    for i in sep_term:\n",
    "        if i in operations:\n",
    "            while stack and stack[-1]!='('and operation_priory(i)<=operation_priory(stack[-1]):\n",
    "                yield stack.pop()\n",
    "            stack.append(i)\n",
    "        elif i =='(':\n",
    "            stack.append(i)\n",
    "        elif i==')':\n",
    "            while stack:\n",
    "                a = stack.pop()\n",
    "                if a=='(':\n",
    "                    break\n",
    "                yield a\n",
    "        else:\n",
    "            yield i\n",
    "    while stack:\n",
    "        yield stack.pop()\n",
    "        \n",
    "def operation_calc(sign,x,y) :\n",
    "    if sign == '+' : return x + y\n",
    "    elif sign == '-' : return y - x\n",
    "    elif sign == '*' : return x*y\n",
    "    elif sign == '/': return y/x\n",
    "        \n",
    "def calc(expr):\n",
    "    stack = []\n",
    "    for i in expr:\n",
    "        if i in operations:\n",
    "            x = stack.pop()\n",
    "            y = stack.pop()\n",
    "            z = operation_calc(i,x,y)\n",
    "            stack.append(z)\n",
    "        else:\n",
    "            stack.append(i)\n",
    "    return stack[0]\n",
    "\n",
    "numbers = ['0','1','2','3','4','5','6','7','8','9'] \n",
    "brackets = ['(', ')']\n",
    "operations = ['+','-','*','/']\n",
    "\n",
    "term = '(2-20)*3'\n",
    "mygen = sorted_station(separate(term))\n",
    "for i in mygen:\n",
    "    print(i)\n",
    "Z = calc(sorted_station(separate(term)))  \n",
    "print(Z)"
   ]
  }
 ],
 "metadata": {
  "anaconda-cloud": {},
  "kernelspec": {
   "display_name": "Python [default]",
   "language": "python",
   "name": "python3"
  },
  "language_info": {
   "codemirror_mode": {
    "name": "ipython",
    "version": 3
   },
   "file_extension": ".py",
   "mimetype": "text/x-python",
   "name": "python",
   "nbconvert_exporter": "python",
   "pygments_lexer": "ipython3",
   "version": "3.5.2"
  }
 },
 "nbformat": 4,
 "nbformat_minor": 1
}
