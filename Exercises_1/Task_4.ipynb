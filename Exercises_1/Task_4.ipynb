{
 "cells": [
  {
   "cell_type": "code",
   "execution_count": 29,
   "metadata": {
    "collapsed": false
   },
   "outputs": [
    {
     "name": "stdout",
     "output_type": "stream",
     "text": [
      "2.0\n",
      "15.0\n",
      "3.0\n",
      "4.0\n",
      "*\n",
      "-\n",
      "*\n",
      "2.0\n",
      "-\n",
      "4.0\n"
     ]
    }
   ],
   "source": [
    "def separate(term):\n",
    "    number =''\n",
    "    for i in term:\n",
    "        if i in numbers:\n",
    "            number=number+i\n",
    "        elif len(number)!=0:\n",
    "            yield float(number)\n",
    "            number =''\n",
    "        if i in brackets:\n",
    "            yield i\n",
    "        if i in operations:\n",
    "            yield i\n",
    "    if len(number)!=0:\n",
    "            yield float(number)\n",
    "            \n",
    "def operation_priory(sign):\n",
    "    if sign=='+'or sign=='-' : return 1\n",
    "    elif sign=='*' or '/' :return 2\n",
    "     \n",
    "def sorted_station(sep_term):\n",
    "    stack = []\n",
    "    for i in sep_term:\n",
    "        if i in operations:\n",
    "            while stack and stack[-1]!='('and operation_priory(i)<=operation_priory(stack[-1]):\n",
    "                yield stack.pop()\n",
    "            stack.append(i)\n",
    "        elif i =='(':\n",
    "            stack.append(i)\n",
    "        elif i==')':\n",
    "            while stack:\n",
    "                a = stack.pop()\n",
    "                if a=='(':\n",
    "                    break\n",
    "                yield a\n",
    "        else:\n",
    "            yield i\n",
    "    while stack:\n",
    "        yield stack.pop()\n",
    "        \n",
    "def operation_calc(sign,x,y) :\n",
    "    if sign == '+' : return x + y\n",
    "    elif sign == '-' : return y - x\n",
    "    elif sign == '*' : return x*y\n",
    "    elif sign == '/': return y/x\n",
    "        \n",
    "def calc(expr):\n",
    "    stack = []\n",
    "    for i in expr:\n",
    "        if i in operations:\n",
    "            x = stack.pop()\n",
    "            y = stack.pop()\n",
    "            z = operation_calc(i,x,y)\n",
    "            stack.append(z)\n",
    "        else:\n",
    "            stack.append(i)\n",
    "    return stack[0]\n",
    "\n",
    "numbers = ['1','2','3','4','5','6','7','8','9'] \n",
    "brackets = ['(', ')']\n",
    "operations = ['+','-','*','/']\n",
    "term = '2 * (15 - 3 * 4) - 2'\n",
    "mygen = sorted_station(separate(term))\n",
    "for i in mygen:\n",
    "    print(i)\n",
    "Z = calc(sorted_station(separate(term)))  \n",
    "print(Z)"
   ]
  },
  {
   "cell_type": "code",
   "execution_count": null,
   "metadata": {
    "collapsed": false
   },
   "outputs": [],
   "source": []
  }
 ],
 "metadata": {
  "anaconda-cloud": {},
  "kernelspec": {
   "display_name": "Python [conda root]",
   "language": "python",
   "name": "conda-root-py"
  },
  "language_info": {
   "codemirror_mode": {
    "name": "ipython",
    "version": 3
   },
   "file_extension": ".py",
   "mimetype": "text/x-python",
   "name": "python",
   "nbconvert_exporter": "python",
   "pygments_lexer": "ipython3",
   "version": "3.5.2"
  }
 },
 "nbformat": 4,
 "nbformat_minor": 1
}
