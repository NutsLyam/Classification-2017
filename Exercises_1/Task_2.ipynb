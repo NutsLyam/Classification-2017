{
 "cells": [
  {
   "cell_type": "markdown",
   "metadata": {},
   "source": [
    "# Задание 2\n",
    "\n",
    "нужно написать функцию, которая принимает две строки и проверяет, входит ли хотя бы одна перестановка второй строки в первую. Например:\n",
    "\n",
    "> a = 'abcrotm'\n",
    "> \n",
    "> b = 'tro'\n",
    "\n",
    "функция def check_inv(a, b) вернет True, так как 'rot' содержится в 'abcrotm'. Нужно подумать как можно более оптимальный алгоритм и оценить его сложность. "
   ]
  },
  {
   "cell_type": "code",
   "execution_count": 2,
   "metadata": {},
   "outputs": [
    {
     "name": "stdout",
     "output_type": "stream",
     "text": [
      "True\n"
     ]
    }
   ],
   "source": [
    "b = 'tro'\n",
    "a = 'abcrotm'\n",
    "dict_b = {i: 0 for i in b} #O(len(b))\n",
    "for i in b:   #O(len(b))\n",
    "    dict_b[i] = dict_b[i] + 1\n",
    "dict_b2 = dict()\n",
    "#print(dict_b)\n",
    "flag = False\n",
    "for i in range(0,len(a)-len(b)+1):  #O(len(a)-len(b) + 1)\n",
    "    #print('part a: ', a[i:(i + len(b))])  \n",
    "    for ch in a[i:(i + len(b))]: #O(len(b))\n",
    "        #print('ch', ch, 'i', i)\n",
    "        if ch in dict_b:        #O(1)\n",
    "            if ch in dict_b2:    #0(1)\n",
    "                dict_b2[ch] = dict_b2[ch] +1\n",
    "            else : \n",
    "                dict_b2[ch] = 1\n",
    "        else:\n",
    "            dict_b2.clear()\n",
    "            \n",
    "        #print('d2',dict_b2)\n",
    "        \n",
    "    if dict_b == dict_b2:   #0(1)\n",
    "        flag = True\n",
    "    else:\n",
    "        dict_b2.clear()\n",
    "print(flag)\n",
    "\n",
    "    "
   ]
  },
  {
   "cell_type": "code",
   "execution_count": null,
   "metadata": {
    "collapsed": true
   },
   "outputs": [],
   "source": []
  }
 ],
 "metadata": {
  "anaconda-cloud": {},
  "kernelspec": {
   "display_name": "Python 3",
   "language": "python",
   "name": "python3"
  },
  "language_info": {
   "codemirror_mode": {
    "name": "ipython",
    "version": 3
   },
   "file_extension": ".py",
   "mimetype": "text/x-python",
   "name": "python",
   "nbconvert_exporter": "python",
   "pygments_lexer": "ipython3",
   "version": "3.6.3"
  }
 },
 "nbformat": 4,
 "nbformat_minor": 1
}
