{
 "cells": [
  {
   "cell_type": "code",
   "execution_count": 61,
   "metadata": {
    "collapsed": false
   },
   "outputs": [
    {
     "name": "stdout",
     "output_type": "stream",
     "text": [
      "Перестановка b входит в a\n",
      "True\n"
     ]
    }
   ],
   "source": [
    "def right(stack , Ind): #\n",
    "    stack1=[]\n",
    "    ind = Ind\n",
    "    k = -1\n",
    "    for  l in stack : #m-1\n",
    "        k+=1\n",
    "        if ind+1<=len_a:\n",
    "            if a[ind+1]==l :\n",
    "                 ind +=1\n",
    "            else:\n",
    "                stack1.append(l)          \n",
    "    return stack1\n",
    "            \n",
    "def left(stack,Ind):\n",
    "    stack1=[]\n",
    "    ind = Ind\n",
    "    k = -1\n",
    "    for  l in stack :  #<=m-1\n",
    "        k+=1\n",
    "        if ind-1>=0 :           \n",
    "            if (a[ind-1] == l) :\n",
    "                ind =ind-1\n",
    "            else :\n",
    "                stack1.append(l)    \n",
    "    return stack1\n",
    "   \n",
    "\n",
    "a ='abcrotmamb' # n -len(a)\n",
    "b ='tro'# m-len(b)\n",
    "\n",
    "def check_inv(a,b):\n",
    "    stack = ['-1']\n",
    "    Ind = 0\n",
    "    len_a = len(a)\n",
    "    len_b = len(b)  \n",
    "\n",
    "    if len_a > len_b : \n",
    "        while len(stack)!=0:  #l<<n\n",
    "            stack=[]       \n",
    "            for c in b:\n",
    "                stack.append(c)\n",
    "            y = stack.pop()\n",
    "            start = Ind\n",
    "            try:\n",
    "                Ind = a.index(y,start+1,len_a) # n\n",
    "            except Exception:\n",
    "                print('Перестановка b не входит в a')\n",
    "                return(False)      \n",
    "            stack = right(stack,Ind) #m-1\n",
    "            if len(stack) == 0 : \n",
    "                    print ('Перестановка b входит в a')\n",
    "                    return(True)\n",
    "        \n",
    "            stack = left(stack,Ind) # <= (m-1)\n",
    "            if len(stack) == 0 : \n",
    "                    print ('Перестановка b входит в a')\n",
    "                    return(True)\n",
    "                    \n",
    "    else :\n",
    "        print ('Вхождений нет')\n",
    "        return (False)\n",
    "        \n",
    "print (check_inv(a,b))\n",
    "            \n",
    "# m<n ; l<<n, l-const           \n",
    "# в худшем случае l*(n+(m-1)+(m-1)) = l(n+2m-2)= O(n) \n",
    "  \n",
    "    "
   ]
  }
 ],
 "metadata": {
  "anaconda-cloud": {},
  "kernelspec": {
   "display_name": "Python [conda root]",
   "language": "python",
   "name": "conda-root-py"
  },
  "language_info": {
   "codemirror_mode": {
    "name": "ipython",
    "version": 3
   },
   "file_extension": ".py",
   "mimetype": "text/x-python",
   "name": "python",
   "nbconvert_exporter": "python",
   "pygments_lexer": "ipython3",
   "version": "3.5.2"
  }
 },
 "nbformat": 4,
 "nbformat_minor": 1
}
