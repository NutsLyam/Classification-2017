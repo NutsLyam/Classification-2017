{
 "cells": [
  {
   "cell_type": "code",
   "execution_count": 44,
   "metadata": {
    "collapsed": false
   },
   "outputs": [
    {
     "name": "stdout",
     "output_type": "stream",
     "text": [
      "Перестановка b входит в a\n"
     ]
    }
   ],
   "source": [
    "-"
   ]
  },
  {
   "cell_type": "code",
   "execution_count": 5,
   "metadata": {
    "collapsed": false
   },
   "outputs": [],
   "source": [
    "a ='abcde'\n",
    "b ='ba'\n",
    "stack = ['-1']\n",
    "Ind = 0\n",
    "len_a = len(a)\n",
    "len_b = len(b)\n",
    "if len_a > len_b :\n",
    "    if len(stack)!=0:\n",
    "        stack = []\n",
    "        i = 1\n",
    "        for ch in b:\n",
    "            stack[i] = ch\n",
    "            i+=1\n",
    "        y = stack.pop()\n",
    "        start = Ind + 1\n",
    "        Ind = a.index(y,start,len_a)\n",
    "        ind = Ind\n",
    "        k = 0\n",
    "        for  l in stack if ind<=len_a:\n",
    "            k=+1\n",
    "            if a(ind+1)==l :\n",
    "                ind +=1\n",
    "                stack.pop(k)\n",
    "            if len(stack)=!0 :\n",
    "                ind = Ind\n",
    "                k = 0\n",
    "                for ind>=1  l in stack:\n",
    "                    k+=1\n",
    "                    if (a(ind) = = l) :\n",
    "                        ind -=1\n",
    "                        stack.pop(k)\n",
    "            else print('yas')\n",
    "    else print ('yes')\n",
    "    \n",
    "                \n",
    "    \n",
    "\n",
    "\n"
   ]
  },
  {
   "cell_type": "code",
   "execution_count": null,
   "metadata": {
    "collapsed": false
   },
   "outputs": [],
   "source": [
    "a = 'fffdh'\n",
    "b = a.index('w',4,6)\n",
    "print (b)"
   ]
  },
  {
   "cell_type": "code",
   "execution_count": 67,
   "metadata": {
    "collapsed": false
   },
   "outputs": [
    {
     "data": {
      "text/plain": [
       "'c'"
      ]
     },
     "execution_count": 67,
     "metadata": {},
     "output_type": "execute_result"
    }
   ],
   "source": [
    "a[2]"
   ]
  }
 ],
 "metadata": {
  "anaconda-cloud": {},
  "kernelspec": {
   "display_name": "Python [conda root]",
   "language": "python",
   "name": "conda-root-py"
  },
  "language_info": {
   "codemirror_mode": {
    "name": "ipython",
    "version": 3
   },
   "file_extension": ".py",
   "mimetype": "text/x-python",
   "name": "python",
   "nbconvert_exporter": "python",
   "pygments_lexer": "ipython3",
   "version": "3.5.2"
  }
 },
 "nbformat": 4,
 "nbformat_minor": 1
}
