{
 "cells": [
  {
   "cell_type": "code",
   "execution_count": 63,
   "metadata": {
    "collapsed": false
   },
   "outputs": [
    {
     "name": "stdout",
     "output_type": "stream",
     "text": [
      "10,1,3,None,None,4,None,None,2,None,None\n",
      "True\n",
      "Tree(10,Tree(1,Tree(3,None,None),Tree(4,None,None)),Tree(2,None,None))\n",
      "10,1,3,None,None,4,None,None,2,None,None\n"
     ]
    }
   ],
   "source": [
    "class Tree: \n",
    "    def __init__(self, value=None, left=None,right=None):\n",
    "        self.left = left\n",
    "        self.right = right\n",
    "        self.value = value\n",
    "        \n",
    "    def __iter__(self):\n",
    "        if self.left:\n",
    "            \n",
    "            yield from iter(self.left)\n",
    "        if self.right:\n",
    "            #print(self.right)\n",
    "            yield from iter(self.right)\n",
    "        else:\n",
    "            #print(self.value)\n",
    "            yield  self.value\n",
    "                \n",
    " \n",
    "    \n",
    "    def __repr__(self):\n",
    "        return 'Tree({value},{left},{right})'.format(value = self.value, left= repr(self.left),\n",
    "                                                  right = repr(self.right))\n",
    "    def __str__(self):\n",
    "        return '{val},{l},{r}'.format(val=self.value, l = str(self.left), r= str(self.right))\n",
    "    \n",
    "tree = Tree(10, Tree(1, Tree(3), Tree(4)), Tree(2))\n",
    "tree #repr\n",
    "print(tree)#str\n",
    "print(list(tree)==[3,4,2])\n",
    "print (tree.__repr__())\n",
    "print (tree.__str__())\n"
   ]
  },
  {
   "cell_type": "code",
   "execution_count": null,
   "metadata": {
    "collapsed": true
   },
   "outputs": [],
   "source": []
  }
 ],
 "metadata": {
  "kernelspec": {
   "display_name": "Python [default]",
   "language": "python",
   "name": "python3"
  },
  "language_info": {
   "codemirror_mode": {
    "name": "ipython",
    "version": 3
   },
   "file_extension": ".py",
   "mimetype": "text/x-python",
   "name": "python",
   "nbconvert_exporter": "python",
   "pygments_lexer": "ipython3",
   "version": "3.5.2"
  }
 },
 "nbformat": 4,
 "nbformat_minor": 1
}
