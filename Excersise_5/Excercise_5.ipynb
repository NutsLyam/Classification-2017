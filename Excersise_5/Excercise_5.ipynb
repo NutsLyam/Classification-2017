{
 "cells": [
  {
   "cell_type": "code",
   "execution_count": 1,
   "metadata": {
    "collapsed": true
   },
   "outputs": [],
   "source": [
    "from elasticsearch import Elasticsearch\n",
    "\n",
    "es = Elasticsearch()"
   ]
  },
  {
   "cell_type": "code",
   "execution_count": 3,
   "metadata": {},
   "outputs": [],
   "source": [
    "#es.indices.create(index='news-index')"
   ]
  },
  {
   "cell_type": "code",
   "execution_count": 4,
   "metadata": {
    "collapsed": true
   },
   "outputs": [],
   "source": [
    "import sqlite3\n",
    "conn = sqlite3.connect(\"news_base.db\") \n",
    "cursor = conn.cursor()"
   ]
  },
  {
   "cell_type": "code",
   "execution_count": 45,
   "metadata": {},
   "outputs": [],
   "source": [
    "sql = \"Select  title, date, category, article FROM News\"\n",
    "cursor.execute(sql)\n",
    "for t in cursor.fetchall()[10:1000]:\n",
    "    title = t[0]\n",
    "    date = t[1]\n",
    "    category = t[2]\n",
    "    article = t[3]   \n",
    "    es.index(index='news-index',  doc_type='test',  body={'title': title, 'date':date,'category':category, 'article' : article})"
   ]
  },
  {
   "cell_type": "code",
   "execution_count": 46,
   "metadata": {},
   "outputs": [],
   "source": [
    "que = \"чемпионат\"\n",
    "a = es.search(index='news-index', doc_type='test', q=que)"
   ]
  },
  {
   "cell_type": "code",
   "execution_count": 47,
   "metadata": {},
   "outputs": [
    {
     "name": "stdout",
     "output_type": "stream",
     "text": [
      "Российская штангистка пропустит ЧЕ из-за боязни провокаций\n",
      "Коляда занял четвертое место на ЧМ по фигурному катанию\n",
      "Аленичев отказался считать ЦСКА топ-клубом\n",
      "Убытки Первого канала сократились в 10 раз\n"
     ]
    }
   ],
   "source": [
    "i = 0\n",
    "t=[]\n",
    "while i<4:\n",
    "    try:\n",
    "        t.append(a['hits']['hits'][i]['_source']['title'])\n",
    "        \n",
    "    except IndexError:\n",
    "            t.append('')\n",
    "    \n",
    "    i=i+1\n",
    "     \n",
    "for  d in t:\n",
    "    print(d)"
   ]
  },
  {
   "cell_type": "code",
   "execution_count": null,
   "metadata": {
    "collapsed": true
   },
   "outputs": [],
   "source": []
  }
 ],
 "metadata": {
  "kernelspec": {
   "display_name": "Python 3",
   "language": "python",
   "name": "python3"
  },
  "language_info": {
   "codemirror_mode": {
    "name": "ipython",
    "version": 3
   },
   "file_extension": ".py",
   "mimetype": "text/x-python",
   "name": "python",
   "nbconvert_exporter": "python",
   "pygments_lexer": "ipython3",
   "version": "3.6.3"
  }
 },
 "nbformat": 4,
 "nbformat_minor": 2
}
